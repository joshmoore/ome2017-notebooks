{
 "cells": [
  {
   "cell_type": "markdown",
   "metadata": {},
   "source": [
    "# Welcome!\n",
    "\n",
    "These are some brief notes on the inaugural use of https://jupyter.org at an OME event."
   ]
  },
  {
   "cell_type": "markdown",
   "metadata": {},
   "source": [
    "## 5 minute Jupyter Quick Start"
   ]
  },
  {
   "cell_type": "markdown",
   "metadata": {},
   "source": [
    "Before anything else, if you haven't been added to https://github.com/idr-contrib, please raise your hand now. You will need to be added to this organization in order to login. If you've already been through this once, help your neighbor. If you'd prefer not to login, you can follow along on [nbviewer](https://nbviewer.jupyter.org/github/idr/idr-notebooks/tree/master/).\n",
    "\n",
    "If you are waiting on someone to add you, you might take a look at [Using Jupyter](https://nbviewer.jupyter.org/github/idr/idr-notebooks/blob/master/notebooks/Using_Jupyter.ipynb)."
   ]
  },
  {
   "cell_type": "markdown",
   "metadata": {},
   "source": [
    "### What is Jupyter?\n",
    "\n",
    "There are countless [online resources](https://jupyter-notebook-beginner-guide.readthedocs.io/en/latest/) but very briefly:\n",
    "\n",
    " * _Jupyter_ runs on a server and provides access to **notebooks**, **terminals**, and other remote files.\n",
    " * A _notebook_ is a collection of code, comments, and **results**.\n",
    " * You can _interactively_ change the code and re-run it, all **without installing anything**."
   ]
  },
  {
   "cell_type": "code",
   "execution_count": 2,
   "metadata": {},
   "outputs": [
    {
     "data": {
      "application/javascript": [
       "// for example crazy stuff like embedding Javascript\n",
       "var kernel = Jupyter.notebook.kernel; \n",
       "var url = window.location.href\n",
       "var command = \"url = \" + \"'\"+url+\"'\";\n",
       "kernel.execute(command);"
      ],
      "text/plain": [
       "<IPython.core.display.Javascript object>"
      ]
     },
     "metadata": {},
     "output_type": "display_data"
    }
   ],
   "source": [
    "%%javascript\n",
    "// for example crazy stuff like embedding Javascript\n",
    "var kernel = Jupyter.notebook.kernel; \n",
    "var url = window.location.href\n",
    "var command = \"url = \" + \"'\"+url+\"'\";\n",
    "kernel.execute(command);"
   ]
  },
  {
   "cell_type": "code",
   "execution_count": 3,
   "metadata": {
    "collapsed": true
   },
   "outputs": [],
   "source": [
    "# But by default, Jupyter assumes Python\n",
    "def embed_or_show(path, image):\n",
    "    if \"jupyter.openmicroscopy.org\" in url:\n",
    "        from IPython.display import IFrame\n",
    "        return IFrame('https://jupyter.openmicroscopy.org/jupyter/user/x/%s' % path, 800, 350)\n",
    "    else:\n",
    "        from IPython.display import HTML\n",
    "        return HTML('<img src=\"https://github.com/joshmoore/ome2017-notebooks/raw/master/%s\"/>' % image)"
   ]
  },
  {
   "cell_type": "code",
   "execution_count": 4,
   "metadata": {
    "scrolled": false
   },
   "outputs": [
    {
     "data": {
      "text/html": [
       "<img src=\"https://github.com/joshmoore/ome2017-notebooks/raw/master/jupyter_running.png\"/>"
      ],
      "text/plain": [
       "<IPython.core.display.HTML object>"
      ]
     },
     "execution_count": 4,
     "metadata": {},
     "output_type": "execute_result"
    }
   ],
   "source": [
    "# Last values are printed\n",
    "embed_or_show(\"/tree/#running\", \"jupyter_running.png\")"
   ]
  },
  {
   "cell_type": "markdown",
   "metadata": {},
   "source": [
    "### Why can't I save any files??\n",
    "\n",
    "The `notebooks/` directory is a copy of what's under https://github.com/idr/idr-notebooks. You will need to put any files you'd like to edit under `scratch/`."
   ]
  },
  {
   "cell_type": "code",
   "execution_count": 5,
   "metadata": {},
   "outputs": [
    {
     "data": {
      "text/html": [
       "<img src=\"https://github.com/joshmoore/ome2017-notebooks/raw/master/jupyter_files.png\"/>"
      ],
      "text/plain": [
       "<IPython.core.display.HTML object>"
      ]
     },
     "execution_count": 5,
     "metadata": {},
     "output_type": "execute_result"
    }
   ],
   "source": [
    "embed_or_show(\"/tree/#notebooks\", \"jupyter_files.png\")"
   ]
  },
  {
   "cell_type": "markdown",
   "metadata": {},
   "source": [
    "### What server? Where??\n",
    "\n",
    "There are two Jupyter servers running which may lead to some confusion:\n",
    "\n",
    "<img alt=\"architecture\" src=\"https://github.com/joshmoore/ome2017-notebooks/raw/master/servers.png\" width=\"50%\"/>\n",
    "\n",
    "#### **https://jupyter.openmicroscopy.org/jupyter**\n",
    "   * The **development** OME Jupyter instance.\n",
    "   * Specially configured for OME2017 to re-use `idr-contrib`\n",
    "   * Use this *during* OME2017.\n",
    "\n",
    "#### **https://idr.openmicroscopy.org/jupyter**\n",
    "   * The **production** IDR Jupyter instance (also known as the Virtual Analysis Environment, VAE)\n",
    "   * Talks to an **OMERO 5.2** server running at EBI. (Not accessible otherwise)\n",
    "   * Use this *after* OME2017 now that you're a member of `idr-contrib`."
   ]
  },
  {
   "cell_type": "code",
   "execution_count": 6,
   "metadata": {
    "scrolled": true
   },
   "outputs": [
    {
     "name": "stdout",
     "output_type": "stream",
     "text": [
      "Connected to IDR...\n",
      "Number of screens: 35\n"
     ]
    }
   ],
   "source": [
    "from idr import connection\n",
    "conn = connection()\n",
    "try:\n",
    "    print \"Number of screens:\", len(list(conn.getObjects(\"Screen\")))\n",
    "except:\n",
    "    conn.close()"
   ]
  },
  {
   "cell_type": "markdown",
   "metadata": {},
   "source": [
    "### Anything else?\n",
    "\n",
    " * Don't hesitate to try things out.\n",
    " * You might start with README.ipynb when you have a moment.\n",
    " * Suggestions welcome."
   ]
  },
  {
   "cell_type": "markdown",
   "metadata": {},
   "source": [
    "----\n",
    "# Now for the fun part!"
   ]
  },
  {
   "cell_type": "markdown",
   "metadata": {},
   "source": [
    "## First session: IDR Annotations Tour (Round 1, Room 3)\n",
    "\n",
    "Notebooks:\n",
    " * [IDR_API_example_script.ipynb](https://nbviewer.jupyter.org/github/idr/idr-notebooks/blob/master/notebooks/IDR_API_example_script.ipynb)\n",
    " * [GenesToPhenotypes.ipynb](https://nbviewer.jupyter.org/github/idr/idr-notebooks/blob/master/notebooks/GenesToPhenotypes.ipynb)\n",
    " * [GeneNetwork.ipynb](https://nbviewer.jupyter.org/github/idr/idr-notebooks/blob/master/notebooks/GeneNetwork.ipynb)"
   ]
  },
  {
   "cell_type": "markdown",
   "metadata": {},
   "source": [
    "## Second session: Analyzing Data in OMERO (Round 3, Room 2)\n",
    "\n",
    "Notebooks:\n",
    " * [CalculateSharpeness.ipynb](https://nbviewer.jupyter.org/github/idr/idr-notebooks/blob/master/notebooks/CalculateSharpness.ipynb)\n",
    " * [CreateOmeroFigures.ipnyb](https://nbviewer.jupyter.org/github/idr/idr-notebooks/blob/master/notebooks/CreateOmeroFigures.ipynb)\n",
    " * [CondensationBulkAnnotations.R.ipynb](https://nbviewer.jupyter.org/github/idr/idr-notebooks/blob/master/notebooks/CondensationBulkAnnotations.R.ipynb) (R debut!)"
   ]
  },
  {
   "cell_type": "markdown",
   "metadata": {},
   "source": [
    "## Extra points if there's time\n",
    " * build your own\n",
    " * similarity (from presentation)\n",
    " * linkedness of everything"
   ]
  }
 ],
 "metadata": {
  "kernelspec": {
   "display_name": "OMERO Python 2",
   "language": "python",
   "name": "python2"
  },
  "language_info": {
   "codemirror_mode": {
    "name": "ipython",
    "version": 2
   },
   "file_extension": ".py",
   "mimetype": "text/x-python",
   "name": "python",
   "nbconvert_exporter": "python",
   "pygments_lexer": "ipython2",
   "version": "2.7.13"
  }
 },
 "nbformat": 4,
 "nbformat_minor": 2
}
