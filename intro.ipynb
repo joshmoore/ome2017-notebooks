{
 "cells": [
  {
   "cell_type": "markdown",
   "metadata": {},
   "source": [
    "# Welcome!\n",
    "\n",
    "These are some brief notes on the inaugural use of https://jupyter.org at an OME event.\n",
    "\n",
    "The examples mentioned below use the [Image Data Resource (IDR)](https://idr.openmicroscopy.org) as a source of realistically (over-)large data with an open license. Migrating the examples to work with your own server should not pose any difficulty, though you might not have the necessary metadata and data types for some examples. "
   ]
  },
  {
   "cell_type": "markdown",
   "metadata": {},
   "source": [
    "## 5 minute Jupyter Quick Start"
   ]
  },
  {
   "cell_type": "markdown",
   "metadata": {},
   "source": [
    "<img src=\"./jupyter_login.png\" width=\"20%\" style=\"float: left\"/>\n",
    "\n",
    "Before anything else, if you haven't been added to https://github.com/idr-contrib, please raise your hand now. You will need to be added to this organization in order to login.\n",
    "\n",
    "----\n",
    "\n",
    "If you've already been through this once, help your neighbor.\n",
    "\n",
    "If you'd prefer not to login, you can follow along on [nbviewer](https://nbviewer.jupyter.org/github/idr/idr-notebooks/tree/master/).\n",
    "\n",
    "If you are waiting on someone to add you, you might browse through the [available notebooks](https://github.com/IDR/idr-notebooks).\n",
    "\n",
    "We'll know when you are successful in that you can click on \"Start Server\":\n",
    "\n",
    "![jupyter start](./jupyter_start.png)"
   ]
  },
  {
   "cell_type": "markdown",
   "metadata": {},
   "source": [
    "### What is Jupyter?\n",
    "\n",
    "There are countless [online resources](https://jupyter-notebook-beginner-guide.readthedocs.io/en/latest/) but very briefly:\n",
    "\n",
    " * _Jupyter_ runs on a server and provides the ability to remotely edit and run code.\n",
    " * Code is typically stored in a _notebook_, along with comments and results.\n",
    " * You can interactively change the code and re-run it, all **without installing anything**."
   ]
  },
  {
   "cell_type": "code",
   "execution_count": 1,
   "metadata": {
    "scrolled": true
   },
   "outputs": [
    {
     "name": "stdout",
     "output_type": "stream",
     "text": [
      "['A', 'B', 'C']\n"
     ]
    }
   ],
   "source": [
    "print [chr(x) for x in range(65, 68)]"
   ]
  },
  {
   "cell_type": "code",
   "execution_count": 2,
   "metadata": {
    "scrolled": true
   },
   "outputs": [
    {
     "data": {
      "text/plain": [
       "1024"
      ]
     },
     "execution_count": 2,
     "metadata": {},
     "output_type": "execute_result"
    }
   ],
   "source": [
    "2 ** 10\n",
    "# Last values are printed"
   ]
  },
  {
   "cell_type": "markdown",
   "metadata": {},
   "source": [
    "### Is that it?\n",
    "\n",
    "Well, things can get more complicated..."
   ]
  },
  {
   "cell_type": "code",
   "execution_count": 3,
   "metadata": {},
   "outputs": [
    {
     "data": {
      "application/javascript": [
       "// for example crazy stuff like embedding Javascript\n",
       "var kernel = Jupyter.notebook.kernel;\n",
       "var url = window.location.href\n",
       "var command = \"url = \" + \"'\"+url+\"'\";\n",
       "kernel.execute(command);"
      ],
      "text/plain": [
       "<IPython.core.display.Javascript object>"
      ]
     },
     "metadata": {},
     "output_type": "display_data"
    }
   ],
   "source": [
    "%%javascript\n",
    "// for example crazy stuff like embedding Javascript\n",
    "var kernel = Jupyter.notebook.kernel;\n",
    "var url = window.location.href\n",
    "var command = \"url = \" + \"'\"+url+\"'\";\n",
    "kernel.execute(command);"
   ]
  },
  {
   "cell_type": "code",
   "execution_count": 4,
   "metadata": {
    "collapsed": true
   },
   "outputs": [],
   "source": [
    "# But by default, Jupyter assumes Python\n",
    "# (This method will show up a few times in this intro)\n",
    "def embed_or_show(path, image):\n",
    "    \"\"\"\n",
    "    Embed with a website or show an image depending on the URL\n",
    "    \"\"\"\n",
    "    if \"jupyter.openmicroscopy.org\" in url:\n",
    "        from IPython.display import IFrame\n",
    "        return IFrame('https://jupyter.openmicroscopy.org/jupyter/user/x/%s' % path, 800, 350)\n",
    "    else:\n",
    "        from IPython.display import HTML\n",
    "        return HTML('<img src=\"https://github.com/joshmoore/ome2017-notebooks/raw/master/%s\"/>' % image)"
   ]
  },
  {
   "cell_type": "code",
   "execution_count": 5,
   "metadata": {},
   "outputs": [
    {
     "data": {
      "text/html": [
       "<img src=\"https://github.com/joshmoore/ome2017-notebooks/raw/master/jupyter_files.png\"/>"
      ],
      "text/plain": [
       "<IPython.core.display.HTML object>"
      ]
     },
     "execution_count": 5,
     "metadata": {},
     "output_type": "execute_result"
    }
   ],
   "source": [
    "\n",
    "embed_or_show(\"/tree/#notebooks\", \"jupyter_files.png\")"
   ]
  },
  {
   "cell_type": "markdown",
   "metadata": {},
   "source": [
    "### Why can't I save any files??\n",
    "\n",
    "The `notebooks/` directory is a copy of what's under https://github.com/idr/idr-notebooks. You will need to put any files you'd like to edit under `scratch/`. The \"easiest\" way of doing this, unfortunately, is using the Terminal."
   ]
  },
  {
   "cell_type": "code",
   "execution_count": 6,
   "metadata": {},
   "outputs": [
    {
     "data": {
      "text/html": [
       "<img src=\"https://github.com/joshmoore/ome2017-notebooks/raw/master/jupyter_running.png\"/>"
      ],
      "text/plain": [
       "<IPython.core.display.HTML object>"
      ]
     },
     "execution_count": 6,
     "metadata": {},
     "output_type": "execute_result"
    }
   ],
   "source": [
    "embed_or_show(\"/tree/#running\", \"jupyter_running.png\")"
   ]
  },
  {
   "cell_type": "markdown",
   "metadata": {},
   "source": [
    "### What server? Where??\n",
    "\n",
    "There are two Jupyter servers running which may lead to some confusion:\n",
    "\n",
    "<img alt=\"architecture\" src=\"https://github.com/joshmoore/ome2017-notebooks/raw/1806a874806a61b76e268cf9f0bb9c2724a5db94/servers.png\" width=\"80%\"/>\n",
    "\n",
    "#### **https://jupyter.openmicroscopy.org/jupyter**\n",
    "   * The **development** OME Jupyter instance.\n",
    "   * Specially configured for OME2017 to re-use `idr-contrib`\n",
    "   * Use this *during* OME2017.\n",
    "   * Data available under http://ome2017.openmicroscopy.org\n",
    "\n",
    "#### **https://idr.openmicroscopy.org/jupyter**\n",
    "   * The **production** IDR Jupyter instance (also known as the Virtual Analysis Environment, VAE)\n",
    "   * Talks to an **OMERO 5.2** server running at EBI. (Not accessible otherwise)\n",
    "   * Use this *after* OME2017 now that you're a member of `idr-contrib`.\n",
    "   * Data available under https://idr.openmicroscopy.org"
   ]
  },
  {
   "cell_type": "code",
   "execution_count": 7,
   "metadata": {
    "scrolled": true
   },
   "outputs": [
    {
     "name": "stdout",
     "output_type": "stream",
     "text": [
      "Connected to IDR...\n",
      "Number of screens: 35\n"
     ]
    }
   ],
   "source": [
    "from idr import connection\n",
    "conn = connection()\n",
    "try:\n",
    "    print \"Number of screens:\", len(list(conn.getObjects(\"Screen\")))\n",
    "except:\n",
    "    conn.close()"
   ]
  },
  {
   "cell_type": "markdown",
   "metadata": {},
   "source": [
    "### Anything else?\n",
    "\n",
    " * Don't hesitate to try things out.\n",
    " * You might start with README.ipynb when you have a moment.\n",
    " * Suggestions welcome."
   ]
  },
  {
   "cell_type": "markdown",
   "metadata": {},
   "source": [
    "----\n",
    "# Now for the fun part!"
   ]
  },
  {
   "cell_type": "markdown",
   "metadata": {},
   "source": [
    "## First session: IDR Annotations Tour (Round 1, Room 3)\n",
    "\n",
    "Notebooks:\n",
    " * [IDR_API_example_script.ipynb](https://nbviewer.jupyter.org/github/idr/idr-notebooks/blob/master/notebooks/IDR_API_example_script.ipynb)\n",
    " * [GenesToPhenotypes.ipynb](https://nbviewer.jupyter.org/github/idr/idr-notebooks/blob/master/notebooks/GenesToPhenotypes.ipynb)\n",
    " * [GeneNetwork.ipynb](https://nbviewer.jupyter.org/github/idr/idr-notebooks/blob/master/notebooks/GeneNetwork.ipynb)"
   ]
  },
  {
   "cell_type": "markdown",
   "metadata": {},
   "source": [
    "## Second session: Analyzing Data in OMERO (Round 3, Room 2)\n",
    "\n",
    "Notebooks:\n",
    " * Balaji: 2 intensity-based notebooks: [CalculateSharpness.ipynb](https://nbviewer.jupyter.org/github/idr/idr-notebooks/blob/master/notebooks/CalculateSharpness.ipynb) and [CreateOmeroFigures.ipnyb](https://nbviewer.jupyter.org/github/idr/idr-notebooks/blob/master/notebooks/CreateOmeroFigures.ipynb)\n",
    " * Balaji: a morphology-based notebook, [SysgroRoiLength.ipnyb](https://nbviewer.jupyter.org/github/idr/idr-notebooks/blob/master/notebooks/SysgroRoiLength.ipynb)\n",
    " * Dominik:  [CondensationBulkAnnotations.R.ipynb](https://nbviewer.jupyter.org/github/idr/idr-notebooks/blob/master/notebooks/CondensationBulkAnnotations.R.ipynb) (R debut!)"
   ]
  },
  {
   "cell_type": "markdown",
   "metadata": {},
   "source": [
    "## Extra points if there's time\n",
    "<!--\n",
    " * build your own\n",
    " * similarity (from presentation)\n",
    " * linkedness of everything\n",
    " -->"
   ]
  }
 ],
 "metadata": {
  "kernelspec": {
   "display_name": "OMERO Python 2",
   "language": "python",
   "name": "python2"
  },
  "language_info": {
   "codemirror_mode": {
    "name": "ipython",
    "version": 2
   },
   "file_extension": ".py",
   "mimetype": "text/x-python",
   "name": "python",
   "nbconvert_exporter": "python",
   "pygments_lexer": "ipython2",
   "version": "2.7.13"
  }
 },
 "nbformat": 4,
 "nbformat_minor": 2
}
